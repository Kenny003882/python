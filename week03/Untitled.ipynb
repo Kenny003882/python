{
 "cells": [
  {
   "cell_type": "markdown",
   "id": "ca9b06c6",
   "metadata": {},
   "source": [
    "## Week03"
   ]
  },
  {
   "cell_type": "code",
   "execution_count": null,
   "id": "34e9c391",
   "metadata": {},
   "outputs": [],
   "source": []
  }
 ],
 "metadata": {
  "kernelspec": {
   "display_name": "Python 3 (ipykernel)",
   "language": "python",
   "name": "python3"
  },
  "language_info": {
   "codemirror_mode": {
    "name": "ipython",
    "version": 3
   },
   "file_extension": ".py",
   "mimetype": "text/x-python",
   "name": "python",
   "nbconvert_exporter": "python",
   "pygments_lexer": "ipython3",
   "version": "3.9.12"
  }
 },
 "nbformat": 4,
 "nbformat_minor": 5
}
